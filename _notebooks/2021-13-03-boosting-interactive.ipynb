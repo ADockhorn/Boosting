{
 "cells": [
  {
   "cell_type": "markdown",
   "metadata": {},
   "source": [
    "# Interaktive Lernmaterialien zum Thema Boosting\n",
    "> Beschreibungen und Implementierungen zu den Themen Boosting und Adaboost.\n",
    "\n",
    "- toc: true \n",
    "- badges: true\n",
    "- comments: true\n",
    "- sticky_rank: 1\n",
    "- author: Alexander Dockhorn\n",
    "- image: images/adaboost.png\n",
    "- categories: [fastpages, jupyter, boosting, implementation]"
   ]
  }
 ],
 "nbformat": 4,
 "nbformat_minor": 2
}

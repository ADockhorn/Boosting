{
 "cells": [
  {
   "cell_type": "markdown",
   "metadata": {},
   "source": [
    "# Interaktive Lernmaterialien zum Thema Boosting\n",
    "> Beschreibungen und Implementierungen zu den Themen Boosting und Adaboost.\n",
    "\n",
    "- toc: true \n",
    "- badges: true\n",
    "- comments: true\n",
    "- sticky_rank: 1\n",
    "- author: Alexander Dockhorn\n",
    "- image: images/adaboost.png\n",
    "- categories: [fastpages, jupyter, boosting, implementation]"
   ]
  },
  {
   "cell_type": "markdown",
   "metadata": {},
   "source": [
    "# Boosting\n",
    "\n",
    "Dieses Jupyter Notebook leitet durch die Entwicklung eines Adaboost Klassifikators und begleitet meinen Vortrag. Klicken sie oben auf launch binder um eine interaktive Version dieser Website zu laden.\n",
   ]
  }
 ],
 "nbformat": 4,
 "nbformat_minor": 4
}
